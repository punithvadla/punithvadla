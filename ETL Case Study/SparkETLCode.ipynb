{
 "cells": [
  {
   "cell_type": "code",
   "execution_count": 1,
   "metadata": {},
   "outputs": [
    {
     "name": "stdout",
     "output_type": "stream",
     "text": [
      "Starting Spark application\n"
     ]
    },
    {
     "data": {
      "text/html": [
       "<table>\n",
       "<tr><th>ID</th><th>YARN Application ID</th><th>Kind</th><th>State</th><th>Spark UI</th><th>Driver log</th><th>Current session?</th></tr><tr><td>0</td><td>application_1687204372890_0002</td><td>pyspark</td><td>idle</td><td><a target=\"_blank\" href=\"http://ip-10-0-6-27.ec2.internal:20888/proxy/application_1687204372890_0002/\">Link</a></td><td><a target=\"_blank\" href=\"http://ip-10-0-6-27.ec2.internal:8042/node/containerlogs/container_1687204372890_0002_01_000001/livy\">Link</a></td><td>✔</td></tr></table>"
      ],
      "text/plain": [
       "<IPython.core.display.HTML object>"
      ]
     },
     "metadata": {},
     "output_type": "display_data"
    },
    {
     "data": {
      "application/vnd.jupyter.widget-view+json": {
       "model_id": "",
       "version_major": 2,
       "version_minor": 0
      },
      "text/plain": [
       "FloatProgress(value=0.0, bar_style='info', description='Progress:', layout=Layout(height='25px', width='50%'),…"
      ]
     },
     "metadata": {},
     "output_type": "display_data"
    },
    {
     "name": "stdout",
     "output_type": "stream",
     "text": [
      "SparkSession available as 'spark'.\n"
     ]
    },
    {
     "data": {
      "application/vnd.jupyter.widget-view+json": {
       "model_id": "",
       "version_major": 2,
       "version_minor": 0
      },
      "text/plain": [
       "FloatProgress(value=0.0, bar_style='info', description='Progress:', layout=Layout(height='25px', width='50%'),…"
      ]
     },
     "metadata": {},
     "output_type": "display_data"
    }
   ],
   "source": [
    "from pyspark.sql import SparkSession"
   ]
  },
  {
   "cell_type": "code",
   "execution_count": 5,
   "metadata": {},
   "outputs": [
    {
     "data": {
      "application/vnd.jupyter.widget-view+json": {
       "model_id": "",
       "version_major": 2,
       "version_minor": 0
      },
      "text/plain": [
       "FloatProgress(value=0.0, bar_style='info', description='Progress:', layout=Layout(height='25px', width='50%'),…"
      ]
     },
     "metadata": {},
     "output_type": "display_data"
    }
   ],
   "source": [
    "spark = SparkSession.builder.getOrCreate()"
   ]
  },
  {
   "cell_type": "code",
   "execution_count": 6,
   "metadata": {},
   "outputs": [
    {
     "data": {
      "application/vnd.jupyter.widget-view+json": {
       "model_id": "",
       "version_major": 2,
       "version_minor": 0
      },
      "text/plain": [
       "FloatProgress(value=0.0, bar_style='info', description='Progress:', layout=Layout(height='25px', width='50%'),…"
      ]
     },
     "metadata": {},
     "output_type": "display_data"
    }
   ],
   "source": [
    "from pyspark.sql.types import StructType, StructField, StringType,IntegerType"
   ]
  },
  {
   "cell_type": "code",
   "execution_count": 7,
   "metadata": {},
   "outputs": [
    {
     "data": {
      "application/vnd.jupyter.widget-view+json": {
       "model_id": "",
       "version_major": 2,
       "version_minor": 0
      },
      "text/plain": [
       "FloatProgress(value=0.0, bar_style='info', description='Progress:', layout=Layout(height='25px', width='50%'),…"
      ]
     },
     "metadata": {},
     "output_type": "display_data"
    }
   ],
   "source": [
    "schema = StructType([\n",
    " StructField(\"year\", IntegerType()), \n",
    " StructField(\"month\", StringType()), \n",
    " StructField(\"day\", IntegerType()),  \n",
    " StructField(\"weekday\", StringType())  ,\n",
    " StructField(\"hour\", IntegerType())  ,\n",
    " StructField(\"atm_status\", StringType()) ,\n",
    " StructField(\"atm_id\", StringType()) ,\n",
    " StructField(\"atm_manufacturer\", StringType()) ,\n",
    " StructField(\"atm_location\", StringType()) ,\n",
    " StructField(\"atm_streetname\", StringType()) ,\n",
    " StructField(\"atm_street_number\", IntegerType()) ,\n",
    " StructField(\"atm_zipcode\", IntegerType())  ,\n",
    " StructField(\"atm_lat\", StringType())  ,\n",
    " StructField(\"atm_lon\", StringType())  ,\n",
    " StructField(\"currency\", StringType()) ,\n",
    " StructField(\"card_type\", StringType())  ,\n",
    " StructField(\"transaction_amount\", IntegerType()),\n",
    " StructField(\"service\", StringType())  ,\n",
    " StructField(\"message_code\", StringType()) ,\n",
    " StructField(\"message_text\", StringType()) ,\n",
    " StructField(\"weather_lat\", StringType())  ,\n",
    " StructField(\"weather_lon\", StringType())  ,\n",
    " StructField(\"weather_city_id\", IntegerType()) ,\n",
    " StructField(\"weather_city_name\", StringType())  ,\n",
    " StructField(\"temp\", StringType()) ,\n",
    " StructField(\"pressure\", IntegerType())  ,\n",
    " StructField(\"humidity\", IntegerType())  ,\n",
    " StructField(\"wind_speed\", IntegerType())  ,\n",
    " StructField(\"wind_deg\", IntegerType())  ,\n",
    " StructField(\"rain_3h\", StringType())  ,\n",
    " StructField(\"clouds_all\", IntegerType())  ,\n",
    " StructField(\"weather_id\", IntegerType())  ,\n",
    " StructField(\"weather_main\", StringType()) ,\n",
    " StructField(\"weather_description\", StringType())\n",
    " \n",
    "])"
   ]
  },
  {
   "cell_type": "markdown",
   "metadata": {},
   "source": [
    "### Reading data from Hadoop"
   ]
  },
  {
   "cell_type": "code",
   "execution_count": 9,
   "metadata": {},
   "outputs": [
    {
     "data": {
      "application/vnd.jupyter.widget-view+json": {
       "model_id": "",
       "version_major": 2,
       "version_minor": 0
      },
      "text/plain": [
       "FloatProgress(value=0.0, bar_style='info', description='Progress:', layout=Layout(height='25px', width='50%'),…"
      ]
     },
     "metadata": {},
     "output_type": "display_data"
    }
   ],
   "source": [
    "denormalized_df = spark.read.schema(schema).parquet(\"/user/root/assignment//a6d88055-0b19-4572-8e63-ce01866a70be.parquet\")\n"
   ]
  },
  {
   "cell_type": "markdown",
   "metadata": {},
   "source": [
    "#### Cleaning Column Names"
   ]
  },
  {
   "cell_type": "code",
   "execution_count": 10,
   "metadata": {},
   "outputs": [
    {
     "data": {
      "application/vnd.jupyter.widget-view+json": {
       "model_id": "",
       "version_major": 2,
       "version_minor": 0
      },
      "text/plain": [
       "FloatProgress(value=0.0, bar_style='info', description='Progress:', layout=Layout(height='25px', width='50%'),…"
      ]
     },
     "metadata": {},
     "output_type": "display_data"
    }
   ],
   "source": [
    "denormalized_df=denormalized_df.withColumnRenamed(\"atm_location\", \"location\") \\\n",
    "                                    .withColumnRenamed(\"atm_streetname\", \"streetname\") \\\n",
    "                                    .withColumnRenamed(\"atm_street_number\", \"street_number\")  \\\n",
    "                                    .withColumnRenamed(\"atm_zipcode\", \"zipcode\") \\\n",
    "                                    .withColumnRenamed(\"atm_lat\", \"lat\") \\\n",
    "                                    .withColumnRenamed(\"atm_lon\", \"lon\") \\\n",
    "                                    .withColumnRenamed(\"atm_id\", \"atm_number\")"
   ]
  },
  {
   "cell_type": "code",
   "execution_count": 11,
   "metadata": {},
   "outputs": [
    {
     "data": {
      "application/vnd.jupyter.widget-view+json": {
       "model_id": "",
       "version_major": 2,
       "version_minor": 0
      },
      "text/plain": [
       "FloatProgress(value=0.0, bar_style='info', description='Progress:', layout=Layout(height='25px', width='50%'),…"
      ]
     },
     "metadata": {},
     "output_type": "display_data"
    }
   ],
   "source": [
    "from pyspark.sql.functions import concat, lit, to_date\n",
    "from pyspark.sql.functions import monotonically_increasing_id"
   ]
  },
  {
   "cell_type": "markdown",
   "metadata": {},
   "source": [
    "#### Preparing Data for Date Dimention"
   ]
  },
  {
   "cell_type": "code",
   "execution_count": 12,
   "metadata": {},
   "outputs": [
    {
     "data": {
      "application/vnd.jupyter.widget-view+json": {
       "model_id": "",
       "version_major": 2,
       "version_minor": 0
      },
      "text/plain": [
       "FloatProgress(value=0.0, bar_style='info', description='Progress:', layout=Layout(height='25px', width='50%'),…"
      ]
     },
     "metadata": {},
     "output_type": "display_data"
    },
    {
     "name": "stdout",
     "output_type": "stream",
     "text": [
      "8685"
     ]
    }
   ],
   "source": [
    "# Add an ID column to the denormalized DataFrame\n",
    "#denormalized_df_with_id = denormalized_df.withColumn(\"date_id\", monotonically_increasing_id())\n",
    "\n",
    "# Select relevant columns for the fact dimension\n",
    "\n",
    "fact_dim_df = denormalized_df.select(\"year\", \"month\",\"day\",\"hour\",\"weekday\").distinct()\n",
    "\n",
    "df_with_date = fact_dim_df.withColumn(\"full_date_time\", to_date(concat(fact_dim_df[\"Year\"], lit(\"-\"), fact_dim_df[\"Month\"], lit(\"-\"), fact_dim_df[\"Day\"], lit(\" \"), fact_dim_df[\"hour\"]), \"yyyy-MM-dd HH\"))\\\n",
    "                          .withColumn(\"date_id\", monotonically_increasing_id())\n",
    "\n",
    "df_with_date.count()"
   ]
  },
  {
   "cell_type": "markdown",
   "metadata": {},
   "source": [
    "#### Preparing Data for Card Type Dimention"
   ]
  },
  {
   "cell_type": "code",
   "execution_count": 13,
   "metadata": {},
   "outputs": [
    {
     "data": {
      "application/vnd.jupyter.widget-view+json": {
       "model_id": "",
       "version_major": 2,
       "version_minor": 0
      },
      "text/plain": [
       "FloatProgress(value=0.0, bar_style='info', description='Progress:', layout=Layout(height='25px', width='50%'),…"
      ]
     },
     "metadata": {},
     "output_type": "display_data"
    },
    {
     "name": "stdout",
     "output_type": "stream",
     "text": [
      "Row(card_type='Visa Dankort - on-us', card_type_id=8589934592)"
     ]
    }
   ],
   "source": [
    "\n",
    "card_type_dim = denormalized_df.select(\"card_type\").distinct()\n",
    "\n",
    "card_type_dim_with_id = card_type_dim.withColumn(\"card_type_id\", monotonically_increasing_id())\n",
    "\n",
    "card_type_dim_with_id.head()"
   ]
  },
  {
   "cell_type": "markdown",
   "metadata": {},
   "source": [
    "#### Preparing Data for Location Dimention"
   ]
  },
  {
   "cell_type": "code",
   "execution_count": 14,
   "metadata": {},
   "outputs": [
    {
     "data": {
      "application/vnd.jupyter.widget-view+json": {
       "model_id": "",
       "version_major": 2,
       "version_minor": 0
      },
      "text/plain": [
       "FloatProgress(value=0.0, bar_style='info', description='Progress:', layout=Layout(height='25px', width='50%'),…"
      ]
     },
     "metadata": {},
     "output_type": "display_data"
    },
    {
     "name": "stdout",
     "output_type": "stream",
     "text": [
      "109"
     ]
    }
   ],
   "source": [
    "location_dim = denormalized_df.select(\"location\",\"streetname\",\"street_number\",\"zipcode\",\"lat\",\"lon\").distinct()\n",
    "\n",
    "location_dim_with_id = location_dim.withColumn(\"location_id\", monotonically_increasing_id())\n",
    "\n",
    "\n",
    "location_dim_with_id.count()"
   ]
  },
  {
   "cell_type": "markdown",
   "metadata": {},
   "source": [
    "#### Preparing Data for ATM Dimention"
   ]
  },
  {
   "cell_type": "code",
   "execution_count": 15,
   "metadata": {},
   "outputs": [
    {
     "data": {
      "application/vnd.jupyter.widget-view+json": {
       "model_id": "",
       "version_major": 2,
       "version_minor": 0
      },
      "text/plain": [
       "FloatProgress(value=0.0, bar_style='info', description='Progress:', layout=Layout(height='25px', width='50%'),…"
      ]
     },
     "metadata": {},
     "output_type": "display_data"
    },
    {
     "name": "stdout",
     "output_type": "stream",
     "text": [
      "113"
     ]
    }
   ],
   "source": [
    "DIM_ATM = denormalized_df.select(\"location\",\"streetname\",\"street_number\",\"zipcode\",\"lat\",\"lon\",\"atm_number\",\"atm_manufacturer\").distinct()\n",
    "\n",
    "joined_df = DIM_ATM.join(location_dim_with_id, on=[\"location\", \"streetname\",\"street_number\",\"zipcode\",\"lat\",\"lon\"], how=\"left\")\n",
    "\n",
    "result_df = joined_df.select(\"atm_number\",\"atm_manufacturer\",\"location_id\").withColumn(\"atm_id\", monotonically_increasing_id()).withColumnRenamed(\"location_id\", \"atm_location_id\")\n",
    "\n",
    "result_df.count()"
   ]
  },
  {
   "cell_type": "markdown",
   "metadata": {},
   "source": [
    "#### Preparing Fact Table data"
   ]
  },
  {
   "cell_type": "code",
   "execution_count": 16,
   "metadata": {},
   "outputs": [
    {
     "data": {
      "application/vnd.jupyter.widget-view+json": {
       "model_id": "",
       "version_major": 2,
       "version_minor": 0
      },
      "text/plain": [
       "FloatProgress(value=0.0, bar_style='info', description='Progress:', layout=Layout(height='25px', width='50%'),…"
      ]
     },
     "metadata": {},
     "output_type": "display_data"
    },
    {
     "name": "stdout",
     "output_type": "stream",
     "text": [
      "2468572"
     ]
    }
   ],
   "source": [
    "denormalized_df_with_id=denormalized_df.withColumn(\"trans_id\", monotonically_increasing_id())\n",
    "join_location=denormalized_df_with_id.join(location_dim_with_id,on=[\"location\", \"streetname\",\"street_number\",\"zipcode\",\"lat\",\"lon\"], how=\"left\")\n",
    "join_atm=join_location.join(result_df,((join_location[\"location_id\"]==result_df[\"atm_location_id\"]) & (join_location[\"atm_number\"]==result_df[\"atm_number\"]) &(join_location[\"atm_manufacturer\"]==result_df[\"atm_manufacturer\"]) ),how=\"left\")\n",
    "join_date=join_atm.join(df_with_date,on=[\"year\", \"month\",\"day\",\"hour\",\"weekday\"], how=\"left\")\n",
    "join_card=join_date.join(card_type_dim_with_id,on=[\"card_type\"], how=\"left\")\n",
    "FACT_ATM_TRANS=join_card.select(\"trans_id\",\"atm_id\",\"location_id\",\"date_id\",\"card_type_id\",\"atm_status\",\"currency\",\"service\",\"transaction_amount\",\"message_code\",\"message_text\",\"rain_3h\",\"clouds_all\",\"weather_id\",\"weather_main\",\"weather_description\").withColumnRenamed(\"location_id\", \"weather_loc_id\")\n",
    "FACT_ATM_TRANS.count()"
   ]
  },
  {
   "cell_type": "markdown",
   "metadata": {},
   "source": [
    "#### Loading all the fact and Dimention tables to S3"
   ]
  },
  {
   "cell_type": "code",
   "execution_count": 17,
   "metadata": {},
   "outputs": [
    {
     "data": {
      "application/vnd.jupyter.widget-view+json": {
       "model_id": "",
       "version_major": 2,
       "version_minor": 0
      },
      "text/plain": [
       "FloatProgress(value=0.0, bar_style='info', description='Progress:', layout=Layout(height='25px', width='50%'),…"
      ]
     },
     "metadata": {},
     "output_type": "display_data"
    }
   ],
   "source": [
    "s3_output_path = \"s3://puniths3redshift/All_tables/FACT_ATM_TRANS\"\n",
    "FACT_ATM_TRANS.write.csv(s3_output_path,quote='\"', escape='\"')\n",
    "s3_output_path = \"s3://puniths3redshift/All_tables/DATE_DIM\"\n",
    "df_with_date.write.csv(s3_output_path,quote='\"', escape='\"')\n",
    "s3_output_path = \"s3://puniths3redshift/All_tables/CARD_TYPE_DIM\"\n",
    "card_type_dim_with_id.write.csv(s3_output_path,quote='\"', escape='\"')\n",
    "s3_output_path = \"s3://puniths3redshift/All_tables/LOCATION_DIM\"\n",
    "location_dim_with_id.write.csv(s3_output_path,quote='\"', escape='\"')\n",
    "s3_output_path = \"s3://puniths3redshift/All_tables/ATM_DIM\"\n",
    "result_df.write.csv(s3_output_path,quote='\"', escape='\"')"
   ]
  },
  {
   "cell_type": "code",
   "execution_count": null,
   "metadata": {},
   "outputs": [],
   "source": []
  }
 ],
 "metadata": {
  "kernelspec": {
   "display_name": "PySpark",
   "language": "",
   "name": "pysparkkernel"
  },
  "language_info": {
   "codemirror_mode": {
    "name": "python",
    "version": 3
   },
   "mimetype": "text/x-python",
   "name": "pyspark",
   "pygments_lexer": "python3"
  }
 },
 "nbformat": 4,
 "nbformat_minor": 4
}
